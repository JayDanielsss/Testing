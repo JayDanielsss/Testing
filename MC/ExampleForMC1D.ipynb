{
 "cells": [
  {
   "cell_type": "code",
   "execution_count": 1,
   "id": "581616ed",
   "metadata": {},
   "outputs": [],
   "source": [
    "from scipy import random\n",
    "import math\n",
    "import numpy as np\n",
    "import matplotlib as plot\n",
    "\n",
    "%matplotlib inline\n",
    "\n"
   ]
  },
  {
   "cell_type": "code",
   "execution_count": 2,
   "id": "0475a4e7",
   "metadata": {},
   "outputs": [],
   "source": [
    "def Function(x):\n",
    "    return math.sin(x)\n",
    "\n",
    "a=0\n",
    "b=np.pi\n",
    "N=1000\n",
    "\n",
    "xrand=random.uniform(a,b,N)\n",
    "\n",
    "\n"
   ]
  },
  {
   "cell_type": "code",
   "execution_count": 3,
   "id": "2d738ac0",
   "metadata": {},
   "outputs": [
    {
     "name": "stdout",
     "output_type": "stream",
     "text": [
      "2.0081286322127085\n"
     ]
    }
   ],
   "source": [
    "intergral = 0\n",
    "for i in range(len(xrand)):\n",
    "    intergral += Function(xrand[i])\n",
    "    \n",
    "answer = (b-a)/float(N)*intergral\n",
    "\n",
    "print(answer)\n",
    "    "
   ]
  },
  {
   "cell_type": "code",
   "execution_count": null,
   "id": "0e94ea7d",
   "metadata": {},
   "outputs": [],
   "source": []
  }
 ],
 "metadata": {
  "kernelspec": {
   "display_name": "Python 3",
   "language": "python",
   "name": "python3"
  },
  "language_info": {
   "codemirror_mode": {
    "name": "ipython",
    "version": 3
   },
   "file_extension": ".py",
   "mimetype": "text/x-python",
   "name": "python",
   "nbconvert_exporter": "python",
   "pygments_lexer": "ipython3",
   "version": "3.6.13"
  }
 },
 "nbformat": 4,
 "nbformat_minor": 5
}
